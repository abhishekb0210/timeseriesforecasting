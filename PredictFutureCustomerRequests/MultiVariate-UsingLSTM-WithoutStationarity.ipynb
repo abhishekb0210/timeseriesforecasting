{
 "cells": [
  {
   "cell_type": "code",
   "execution_count": 83,
   "metadata": {},
   "outputs": [],
   "source": [
    "import numpy as np\n",
    "import matplotlib.pyplot as plt\n",
    "import pandas as pd\n",
    "pd.set_option('display.float_format', lambda x: '%.4f' % x)\n",
    "import seaborn as sns\n",
    "sns.set_context(\"paper\", font_scale=1.3)\n",
    "sns.set_style('white')\n",
    "import warnings\n",
    "warnings.filterwarnings('ignore')\n",
    "from time import time\n",
    "import matplotlib.ticker as tkr\n",
    "from scipy import stats\n",
    "from statsmodels.tsa.stattools import pacf\n",
    "%matplotlib inline\n",
    "\n",
    "import math\n",
    "import keras\n",
    "from keras.models import Sequential\n",
    "from keras.layers import Dense\n",
    "from keras.layers import LSTM\n",
    "from keras.layers import Dropout\n",
    "from keras.layers import *\n",
    "from sklearn.preprocessing import MinMaxScaler\n",
    "from sklearn.metrics import mean_squared_error, mean_absolute_error\n",
    "from keras.callbacks import EarlyStopping\n",
    "from sklearn.preprocessing import LabelEncoder"
   ]
  },
  {
   "cell_type": "code",
   "execution_count": 84,
   "metadata": {},
   "outputs": [],
   "source": [
    "data_df = pd.read_csv('data.csv', index_col = 'Date', parse_dates = ['Date'])"
   ]
  },
  {
   "cell_type": "code",
   "execution_count": 85,
   "metadata": {},
   "outputs": [],
   "source": [
    "#df.index = pd.to_datetime(data_df.index)\n",
    "\n",
    "data_df['year'] = data_df.index.year\n",
    "data_df['quarter'] = data_df.index.quarter\n",
    "data_df['month'] = data_df.index.month\n",
    "data_df['day'] = data_df.index.day\n",
    "data_df['weekday'] = (data_df.index.weekday)\n",
    "data_df['isweekend'] = (data_df.weekday > 4).astype(int)\n",
    "\n",
    "# m = df.index.month\n",
    "# data_df['year'] = df.index\n",
    "# data_df['quarter'] = data_df.apply(lambda x: x.quarter)\n",
    "# data_df['month'] = data_df.apply(lambda x: x.month)\n",
    "# data_df['day'] = data_df.apply(lambda x: x.day)"
   ]
  },
  {
   "cell_type": "code",
   "execution_count": 86,
   "metadata": {},
   "outputs": [
    {
     "data": {
      "text/html": [
       "<div>\n",
       "<style scoped>\n",
       "    .dataframe tbody tr th:only-of-type {\n",
       "        vertical-align: middle;\n",
       "    }\n",
       "\n",
       "    .dataframe tbody tr th {\n",
       "        vertical-align: top;\n",
       "    }\n",
       "\n",
       "    .dataframe thead th {\n",
       "        text-align: right;\n",
       "    }\n",
       "</style>\n",
       "<table border=\"1\" class=\"dataframe\">\n",
       "  <thead>\n",
       "    <tr style=\"text-align: right;\">\n",
       "      <th></th>\n",
       "      <th>Count</th>\n",
       "      <th>year</th>\n",
       "      <th>quarter</th>\n",
       "      <th>month</th>\n",
       "      <th>day</th>\n",
       "      <th>weekday</th>\n",
       "      <th>isweekend</th>\n",
       "    </tr>\n",
       "    <tr>\n",
       "      <th>Date</th>\n",
       "      <th></th>\n",
       "      <th></th>\n",
       "      <th></th>\n",
       "      <th></th>\n",
       "      <th></th>\n",
       "      <th></th>\n",
       "      <th></th>\n",
       "    </tr>\n",
       "  </thead>\n",
       "  <tbody>\n",
       "    <tr>\n",
       "      <td>2019-01-01</td>\n",
       "      <td>93</td>\n",
       "      <td>2019</td>\n",
       "      <td>1</td>\n",
       "      <td>1</td>\n",
       "      <td>1</td>\n",
       "      <td>1</td>\n",
       "      <td>0</td>\n",
       "    </tr>\n",
       "    <tr>\n",
       "      <td>2019-01-02</td>\n",
       "      <td>204</td>\n",
       "      <td>2019</td>\n",
       "      <td>1</td>\n",
       "      <td>1</td>\n",
       "      <td>2</td>\n",
       "      <td>2</td>\n",
       "      <td>0</td>\n",
       "    </tr>\n",
       "    <tr>\n",
       "      <td>2019-01-03</td>\n",
       "      <td>200</td>\n",
       "      <td>2019</td>\n",
       "      <td>1</td>\n",
       "      <td>1</td>\n",
       "      <td>3</td>\n",
       "      <td>3</td>\n",
       "      <td>0</td>\n",
       "    </tr>\n",
       "    <tr>\n",
       "      <td>2019-01-04</td>\n",
       "      <td>116</td>\n",
       "      <td>2019</td>\n",
       "      <td>1</td>\n",
       "      <td>1</td>\n",
       "      <td>4</td>\n",
       "      <td>4</td>\n",
       "      <td>0</td>\n",
       "    </tr>\n",
       "    <tr>\n",
       "      <td>2019-01-05</td>\n",
       "      <td>19</td>\n",
       "      <td>2019</td>\n",
       "      <td>1</td>\n",
       "      <td>1</td>\n",
       "      <td>5</td>\n",
       "      <td>5</td>\n",
       "      <td>1</td>\n",
       "    </tr>\n",
       "    <tr>\n",
       "      <td>...</td>\n",
       "      <td>...</td>\n",
       "      <td>...</td>\n",
       "      <td>...</td>\n",
       "      <td>...</td>\n",
       "      <td>...</td>\n",
       "      <td>...</td>\n",
       "      <td>...</td>\n",
       "    </tr>\n",
       "    <tr>\n",
       "      <td>2019-12-27</td>\n",
       "      <td>126</td>\n",
       "      <td>2019</td>\n",
       "      <td>4</td>\n",
       "      <td>12</td>\n",
       "      <td>27</td>\n",
       "      <td>4</td>\n",
       "      <td>0</td>\n",
       "    </tr>\n",
       "    <tr>\n",
       "      <td>2019-12-28</td>\n",
       "      <td>13</td>\n",
       "      <td>2019</td>\n",
       "      <td>4</td>\n",
       "      <td>12</td>\n",
       "      <td>28</td>\n",
       "      <td>5</td>\n",
       "      <td>1</td>\n",
       "    </tr>\n",
       "    <tr>\n",
       "      <td>2019-12-29</td>\n",
       "      <td>68</td>\n",
       "      <td>2019</td>\n",
       "      <td>4</td>\n",
       "      <td>12</td>\n",
       "      <td>29</td>\n",
       "      <td>6</td>\n",
       "      <td>1</td>\n",
       "    </tr>\n",
       "    <tr>\n",
       "      <td>2019-12-30</td>\n",
       "      <td>195</td>\n",
       "      <td>2019</td>\n",
       "      <td>4</td>\n",
       "      <td>12</td>\n",
       "      <td>30</td>\n",
       "      <td>0</td>\n",
       "      <td>0</td>\n",
       "    </tr>\n",
       "    <tr>\n",
       "      <td>2019-12-31</td>\n",
       "      <td>157</td>\n",
       "      <td>2019</td>\n",
       "      <td>4</td>\n",
       "      <td>12</td>\n",
       "      <td>31</td>\n",
       "      <td>1</td>\n",
       "      <td>0</td>\n",
       "    </tr>\n",
       "  </tbody>\n",
       "</table>\n",
       "<p>365 rows × 7 columns</p>\n",
       "</div>"
      ],
      "text/plain": [
       "            Count  year  quarter  month  day  weekday  isweekend\n",
       "Date                                                            \n",
       "2019-01-01     93  2019        1      1    1        1          0\n",
       "2019-01-02    204  2019        1      1    2        2          0\n",
       "2019-01-03    200  2019        1      1    3        3          0\n",
       "2019-01-04    116  2019        1      1    4        4          0\n",
       "2019-01-05     19  2019        1      1    5        5          1\n",
       "...           ...   ...      ...    ...  ...      ...        ...\n",
       "2019-12-27    126  2019        4     12   27        4          0\n",
       "2019-12-28     13  2019        4     12   28        5          1\n",
       "2019-12-29     68  2019        4     12   29        6          1\n",
       "2019-12-30    195  2019        4     12   30        0          0\n",
       "2019-12-31    157  2019        4     12   31        1          0\n",
       "\n",
       "[365 rows x 7 columns]"
      ]
     },
     "execution_count": 86,
     "metadata": {},
     "output_type": "execute_result"
    }
   ],
   "source": [
    "data_df"
   ]
  },
  {
   "cell_type": "code",
   "execution_count": 87,
   "metadata": {},
   "outputs": [
    {
     "data": {
      "text/html": [
       "<div>\n",
       "<style scoped>\n",
       "    .dataframe tbody tr th:only-of-type {\n",
       "        vertical-align: middle;\n",
       "    }\n",
       "\n",
       "    .dataframe tbody tr th {\n",
       "        vertical-align: top;\n",
       "    }\n",
       "\n",
       "    .dataframe thead th {\n",
       "        text-align: right;\n",
       "    }\n",
       "</style>\n",
       "<table border=\"1\" class=\"dataframe\">\n",
       "  <thead>\n",
       "    <tr style=\"text-align: right;\">\n",
       "      <th></th>\n",
       "      <th>Count</th>\n",
       "      <th>year</th>\n",
       "      <th>quarter</th>\n",
       "      <th>month</th>\n",
       "      <th>day</th>\n",
       "      <th>weekday</th>\n",
       "      <th>isweekend</th>\n",
       "    </tr>\n",
       "  </thead>\n",
       "  <tbody>\n",
       "    <tr>\n",
       "      <td>count</td>\n",
       "      <td>365.0000</td>\n",
       "      <td>365.0000</td>\n",
       "      <td>365.0000</td>\n",
       "      <td>365.0000</td>\n",
       "      <td>365.0000</td>\n",
       "      <td>365.0000</td>\n",
       "      <td>365.0000</td>\n",
       "    </tr>\n",
       "    <tr>\n",
       "      <td>mean</td>\n",
       "      <td>179.3534</td>\n",
       "      <td>2019.0000</td>\n",
       "      <td>2.5096</td>\n",
       "      <td>6.5260</td>\n",
       "      <td>15.7205</td>\n",
       "      <td>2.9945</td>\n",
       "      <td>0.2849</td>\n",
       "    </tr>\n",
       "    <tr>\n",
       "      <td>std</td>\n",
       "      <td>108.6973</td>\n",
       "      <td>0.0000</td>\n",
       "      <td>1.1183</td>\n",
       "      <td>3.4526</td>\n",
       "      <td>8.8083</td>\n",
       "      <td>2.0027</td>\n",
       "      <td>0.4520</td>\n",
       "    </tr>\n",
       "    <tr>\n",
       "      <td>min</td>\n",
       "      <td>7.0000</td>\n",
       "      <td>2019.0000</td>\n",
       "      <td>1.0000</td>\n",
       "      <td>1.0000</td>\n",
       "      <td>1.0000</td>\n",
       "      <td>0.0000</td>\n",
       "      <td>0.0000</td>\n",
       "    </tr>\n",
       "    <tr>\n",
       "      <td>25%</td>\n",
       "      <td>77.0000</td>\n",
       "      <td>2019.0000</td>\n",
       "      <td>2.0000</td>\n",
       "      <td>4.0000</td>\n",
       "      <td>8.0000</td>\n",
       "      <td>1.0000</td>\n",
       "      <td>0.0000</td>\n",
       "    </tr>\n",
       "    <tr>\n",
       "      <td>50%</td>\n",
       "      <td>202.0000</td>\n",
       "      <td>2019.0000</td>\n",
       "      <td>3.0000</td>\n",
       "      <td>7.0000</td>\n",
       "      <td>16.0000</td>\n",
       "      <td>3.0000</td>\n",
       "      <td>0.0000</td>\n",
       "    </tr>\n",
       "    <tr>\n",
       "      <td>75%</td>\n",
       "      <td>255.0000</td>\n",
       "      <td>2019.0000</td>\n",
       "      <td>4.0000</td>\n",
       "      <td>10.0000</td>\n",
       "      <td>23.0000</td>\n",
       "      <td>5.0000</td>\n",
       "      <td>1.0000</td>\n",
       "    </tr>\n",
       "    <tr>\n",
       "      <td>max</td>\n",
       "      <td>580.0000</td>\n",
       "      <td>2019.0000</td>\n",
       "      <td>4.0000</td>\n",
       "      <td>12.0000</td>\n",
       "      <td>31.0000</td>\n",
       "      <td>6.0000</td>\n",
       "      <td>1.0000</td>\n",
       "    </tr>\n",
       "  </tbody>\n",
       "</table>\n",
       "</div>"
      ],
      "text/plain": [
       "         Count      year  quarter    month      day  weekday  isweekend\n",
       "count 365.0000  365.0000 365.0000 365.0000 365.0000 365.0000   365.0000\n",
       "mean  179.3534 2019.0000   2.5096   6.5260  15.7205   2.9945     0.2849\n",
       "std   108.6973    0.0000   1.1183   3.4526   8.8083   2.0027     0.4520\n",
       "min     7.0000 2019.0000   1.0000   1.0000   1.0000   0.0000     0.0000\n",
       "25%    77.0000 2019.0000   2.0000   4.0000   8.0000   1.0000     0.0000\n",
       "50%   202.0000 2019.0000   3.0000   7.0000  16.0000   3.0000     0.0000\n",
       "75%   255.0000 2019.0000   4.0000  10.0000  23.0000   5.0000     1.0000\n",
       "max   580.0000 2019.0000   4.0000  12.0000  31.0000   6.0000     1.0000"
      ]
     },
     "execution_count": 87,
     "metadata": {},
     "output_type": "execute_result"
    }
   ],
   "source": [
    "data_df.describe()"
   ]
  },
  {
   "cell_type": "markdown",
   "metadata": {},
   "source": [
    "### To extract maximum information from our data, it is important to have a normal or Gaussian distribution of the data. To check for that, we have done a normality test based on the Null and Alternate Hypothesis intuition."
   ]
  },
  {
   "cell_type": "code",
   "execution_count": 88,
   "metadata": {},
   "outputs": [
    {
     "name": "stdout",
     "output_type": "stream",
     "text": [
      "Statistics=3.305, p=0.192\n",
      "Data looks Gaussian (fail to reject H0)\n"
     ]
    }
   ],
   "source": [
    "stat, p = stats.normaltest(data_df.Count)\n",
    "print('Statistics=%.3f, p=%.3f' % (stat, p))\n",
    "alpha = 0.05\n",
    "if p > alpha:\n",
    "   print('Data looks Gaussian (fail to reject H0)')\n",
    "else:\n",
    "   print('Data does not look Gaussian (reject H0)')"
   ]
  },
  {
   "cell_type": "code",
   "execution_count": 89,
   "metadata": {},
   "outputs": [
    {
     "name": "stdout",
     "output_type": "stream",
     "text": [
      "Kurtosis of normal distribution: 0.05476584094059156\n",
      "Skewness of normal distribution: 0.22571563441367903\n"
     ]
    },
    {
     "data": {
      "image/png": "[encoded data removed]",
      "text/plain": [
       "<Figure size 432x288 with 1 Axes>"
      ]
     },
     "metadata": {
      "needs_background": "light"
     },
     "output_type": "display_data"
    }
   ],
   "source": [
    "#  A value close to 0 for Kurtosis indicates a Normal Distribution where asymmetrical nature is signified by \n",
    "# a value between -0.5 and +0.5 for skewness. The tails are heavier for kurtosis greater than 0 and vice versa. \n",
    "# Moderate skewness refers to the value between -1 and -0.5 or 0.5 and 1.\n",
    "\n",
    "sns.distplot(data_df.Count);\n",
    "print('Kurtosis of normal distribution: {}'.format(stats.kurtosis\n",
    "                                                      (data_df.Count)))\n",
    "print('Skewness of normal distribution: {}'.format(stats.skew\n",
    "                                                      (data_df.Count)))"
   ]
  },
  {
   "cell_type": "markdown",
   "metadata": {},
   "source": [
    "### Box plot of yearly vs. quarterly Count"
   ]
  },
  {
   "cell_type": "code",
   "execution_count": 90,
   "metadata": {},
   "outputs": [
    {
     "data": {
      "image/png": "[encoded data removed]",
      "text/plain": [
       "<Figure size 1008x360 with 2 Axes>"
      ]
     },
     "metadata": {
      "needs_background": "light"
     },
     "output_type": "display_data"
    }
   ],
   "source": [
    "plt.figure(figsize=(14,5))\n",
    "plt.subplot(1,2,1)\n",
    "plt.subplots_adjust(wspace=0.2)\n",
    "sns.boxplot(x=\"year\", y=\"Count\", data=data_df)\n",
    "plt.xlabel('year')\n",
    "plt.title('Box plot of Yearly Count')\n",
    "sns.despine(left=True)\n",
    "plt.tight_layout()\n",
    "\n",
    "plt.subplot(1,2,2)\n",
    "sns.boxplot(x=\"quarter\", y=\"Count\", data=data_df)\n",
    "plt.xlabel('quarter')\n",
    "plt.title('Box plot of Quarterly Count')\n",
    "sns.despine(left=True)\n",
    "plt.tight_layout();"
   ]
  },
  {
   "cell_type": "markdown",
   "metadata": {},
   "source": [
    "### Count in weekdays vs the weekends."
   ]
  },
  {
   "cell_type": "code",
   "execution_count": 91,
   "metadata": {},
   "outputs": [
    {
     "data": {
      "image/png": "[encoded data removed]",
      "text/plain": [
       "<Figure size 648x288 with 1 Axes>"
      ]
     },
     "metadata": {
      "needs_background": "light"
     },
     "output_type": "display_data"
    }
   ],
   "source": [
    "dic={1:'Weekend',0:'Weekday'}\n",
    "data_df['Day'] = data_df.weekday.map(dic)\n",
    "\n",
    "a=plt.figure(figsize=(9,4))\n",
    "plt1=sns.boxplot('month', 'Count', hue='Day', \n",
    "                  width=0.6, fliersize=3, data=data_df )\n",
    "a.legend(loc='upper center', bbox_to_anchor=(0.5,1.00), shadow=True, ncol=2)\n",
    "sns.despine(left=True, bottom=True)\n",
    "plt.xlabel('')\n",
    "plt.tight_layout()\n",
    "plt.legend().set_visible(False);"
   ]
  },
  {
   "cell_type": "code",
   "execution_count": 92,
   "metadata": {},
   "outputs": [],
   "source": [
    "# For months 4 and 5 (April and May), there are significantly more tickets generated on weekends than on the weekdays"
   ]
  },
  {
   "cell_type": "code",
   "execution_count": 93,
   "metadata": {},
   "outputs": [
    {
     "data": {
      "image/png": "[encoded data removed]",
      "text/plain": [
       "<Figure size 432x288 with 1 Axes>"
      ]
     },
     "metadata": {
      "needs_background": "light"
     },
     "output_type": "display_data"
    }
   ],
   "source": [
    "plt1=sns.factorplot('month','Count', hue='Day',\n",
    "                    data=data_df, size=4, aspect=1.5, legend=False)\n",
    "plt.title('Factor Plot of Count by Weekend/Weekday')\n",
    "plt.tight_layout()\n",
    "sns.despine(left=True, bottom=True)\n",
    "plt.legend(loc='upper right');"
   ]
  },
  {
   "cell_type": "markdown",
   "metadata": {},
   "source": [
    "### Data Preprocessing"
   ]
  },
  {
   "cell_type": "code",
   "execution_count": 94,
   "metadata": {},
   "outputs": [],
   "source": [
    "data_df.drop(columns=[\"Day\"], axis=1, inplace=True)"
   ]
  },
  {
   "cell_type": "code",
   "execution_count": 95,
   "metadata": {},
   "outputs": [],
   "source": [
    "\n",
    "# convert series to supervised learning\n",
    "def series_to_supervised(data, n_in=1, n_out=1, dropnan=True):\n",
    "    n_vars = 1 if type(data) is list else data.shape[1]\n",
    "    df = pd.DataFrame(data)\n",
    "    cols, names = list(), list()\n",
    "    # input sequence (t-n, ... t-1)\n",
    "    for i in range(n_in, 0, -1):\n",
    "        cols.append(df.shift(i))\n",
    "        names += [('var%d(t-%d)' % (j+1, i)) for j in range(n_vars)]\n",
    "    # forecast sequence (t, t+1, ... t+n)\n",
    "    for i in range(0, n_out):\n",
    "        cols.append(df.shift(-i))\n",
    "        if i == 0:\n",
    "            names += [('var%d(t)' % (j+1)) for j in range(n_vars)]\n",
    "        else:\n",
    "            names += [('var%d(t+%d)' % (j+1, i)) for j in range(n_vars)]\n",
    "    # put it all together\n",
    "    agg = pd.concat(cols, axis=1)\n",
    "    agg.columns = names\n",
    "    # drop rows with NaN values\n",
    "    if dropnan:\n",
    "        agg.dropna(inplace=True)\n",
    "    return agg\n",
    " "
   ]
  },
  {
   "cell_type": "code",
   "execution_count": 96,
   "metadata": {},
   "outputs": [],
   "source": [
    "# load dataset\n",
    "values = data_df.values\n",
    "# ensure all data is float\n",
    "values = values.astype('float32')"
   ]
  },
  {
   "cell_type": "code",
   "execution_count": 97,
   "metadata": {},
   "outputs": [],
   "source": [
    "# frame as supervised learning\n",
    "reframed = series_to_supervised(values, 7, 1)"
   ]
  },
  {
   "cell_type": "code",
   "execution_count": 98,
   "metadata": {},
   "outputs": [
    {
     "data": {
      "text/html": [
       "<div>\n",
       "<style scoped>\n",
       "    .dataframe tbody tr th:only-of-type {\n",
       "        vertical-align: middle;\n",
       "    }\n",
       "\n",
       "    .dataframe tbody tr th {\n",
       "        vertical-align: top;\n",
       "    }\n",
       "\n",
       "    .dataframe thead th {\n",
       "        text-align: right;\n",
       "    }\n",
       "</style>\n",
       "<table border=\"1\" class=\"dataframe\">\n",
       "  <thead>\n",
       "    <tr style=\"text-align: right;\">\n",
       "      <th></th>\n",
       "      <th>var1(t-7)</th>\n",
       "      <th>var2(t-7)</th>\n",
       "      <th>var3(t-7)</th>\n",
       "      <th>var4(t-7)</th>\n",
       "      <th>var5(t-7)</th>\n",
       "      <th>var6(t-7)</th>\n",
       "      <th>var7(t-7)</th>\n",
       "      <th>var1(t-6)</th>\n",
       "      <th>var2(t-6)</th>\n",
       "      <th>var3(t-6)</th>\n",
       "      <th>...</th>\n",
       "      <th>var5(t-1)</th>\n",
       "      <th>var6(t-1)</th>\n",
       "      <th>var7(t-1)</th>\n",
       "      <th>var1(t)</th>\n",
       "      <th>var2(t)</th>\n",
       "      <th>var3(t)</th>\n",
       "      <th>var4(t)</th>\n",
       "      <th>var5(t)</th>\n",
       "      <th>var6(t)</th>\n",
       "      <th>var7(t)</th>\n",
       "    </tr>\n",
       "  </thead>\n",
       "  <tbody>\n",
       "    <tr>\n",
       "      <td>7</td>\n",
       "      <td>93.0000</td>\n",
       "      <td>2019.0000</td>\n",
       "      <td>1.0000</td>\n",
       "      <td>1.0000</td>\n",
       "      <td>1.0000</td>\n",
       "      <td>1.0000</td>\n",
       "      <td>0.0000</td>\n",
       "      <td>204.0000</td>\n",
       "      <td>2019.0000</td>\n",
       "      <td>1.0000</td>\n",
       "      <td>...</td>\n",
       "      <td>7.0000</td>\n",
       "      <td>0.0000</td>\n",
       "      <td>0.0000</td>\n",
       "      <td>246.0000</td>\n",
       "      <td>2019.0000</td>\n",
       "      <td>1.0000</td>\n",
       "      <td>1.0000</td>\n",
       "      <td>8.0000</td>\n",
       "      <td>1.0000</td>\n",
       "      <td>0.0000</td>\n",
       "    </tr>\n",
       "    <tr>\n",
       "      <td>8</td>\n",
       "      <td>204.0000</td>\n",
       "      <td>2019.0000</td>\n",
       "      <td>1.0000</td>\n",
       "      <td>1.0000</td>\n",
       "      <td>2.0000</td>\n",
       "      <td>2.0000</td>\n",
       "      <td>0.0000</td>\n",
       "      <td>200.0000</td>\n",
       "      <td>2019.0000</td>\n",
       "      <td>1.0000</td>\n",
       "      <td>...</td>\n",
       "      <td>8.0000</td>\n",
       "      <td>1.0000</td>\n",
       "      <td>0.0000</td>\n",
       "      <td>246.0000</td>\n",
       "      <td>2019.0000</td>\n",
       "      <td>1.0000</td>\n",
       "      <td>1.0000</td>\n",
       "      <td>9.0000</td>\n",
       "      <td>2.0000</td>\n",
       "      <td>0.0000</td>\n",
       "    </tr>\n",
       "    <tr>\n",
       "      <td>9</td>\n",
       "      <td>200.0000</td>\n",
       "      <td>2019.0000</td>\n",
       "      <td>1.0000</td>\n",
       "      <td>1.0000</td>\n",
       "      <td>3.0000</td>\n",
       "      <td>3.0000</td>\n",
       "      <td>0.0000</td>\n",
       "      <td>116.0000</td>\n",
       "      <td>2019.0000</td>\n",
       "      <td>1.0000</td>\n",
       "      <td>...</td>\n",
       "      <td>9.0000</td>\n",
       "      <td>2.0000</td>\n",
       "      <td>0.0000</td>\n",
       "      <td>196.0000</td>\n",
       "      <td>2019.0000</td>\n",
       "      <td>1.0000</td>\n",
       "      <td>1.0000</td>\n",
       "      <td>10.0000</td>\n",
       "      <td>3.0000</td>\n",
       "      <td>0.0000</td>\n",
       "    </tr>\n",
       "    <tr>\n",
       "      <td>10</td>\n",
       "      <td>116.0000</td>\n",
       "      <td>2019.0000</td>\n",
       "      <td>1.0000</td>\n",
       "      <td>1.0000</td>\n",
       "      <td>4.0000</td>\n",
       "      <td>4.0000</td>\n",
       "      <td>0.0000</td>\n",
       "      <td>19.0000</td>\n",
       "      <td>2019.0000</td>\n",
       "      <td>1.0000</td>\n",
       "      <td>...</td>\n",
       "      <td>10.0000</td>\n",
       "      <td>3.0000</td>\n",
       "      <td>0.0000</td>\n",
       "      <td>118.0000</td>\n",
       "      <td>2019.0000</td>\n",
       "      <td>1.0000</td>\n",
       "      <td>1.0000</td>\n",
       "      <td>11.0000</td>\n",
       "      <td>4.0000</td>\n",
       "      <td>0.0000</td>\n",
       "    </tr>\n",
       "    <tr>\n",
       "      <td>11</td>\n",
       "      <td>19.0000</td>\n",
       "      <td>2019.0000</td>\n",
       "      <td>1.0000</td>\n",
       "      <td>1.0000</td>\n",
       "      <td>5.0000</td>\n",
       "      <td>5.0000</td>\n",
       "      <td>1.0000</td>\n",
       "      <td>95.0000</td>\n",
       "      <td>2019.0000</td>\n",
       "      <td>1.0000</td>\n",
       "      <td>...</td>\n",
       "      <td>11.0000</td>\n",
       "      <td>4.0000</td>\n",
       "      <td>0.0000</td>\n",
       "      <td>15.0000</td>\n",
       "      <td>2019.0000</td>\n",
       "      <td>1.0000</td>\n",
       "      <td>1.0000</td>\n",
       "      <td>12.0000</td>\n",
       "      <td>5.0000</td>\n",
       "      <td>1.0000</td>\n",
       "    </tr>\n",
       "  </tbody>\n",
       "</table>\n",
       "<p>5 rows × 56 columns</p>\n",
       "</div>"
      ],
      "text/plain": [
       "    var1(t-7)  var2(t-7)  var3(t-7)  var4(t-7)  var5(t-7)  var6(t-7)  \\\n",
       "7     93.0000  2019.0000     1.0000     1.0000     1.0000     1.0000   \n",
       "8    204.0000  2019.0000     1.0000     1.0000     2.0000     2.0000   \n",
       "9    200.0000  2019.0000     1.0000     1.0000     3.0000     3.0000   \n",
       "10   116.0000  2019.0000     1.0000     1.0000     4.0000     4.0000   \n",
       "11    19.0000  2019.0000     1.0000     1.0000     5.0000     5.0000   \n",
       "\n",
       "    var7(t-7)  var1(t-6)  var2(t-6)  var3(t-6)  ...  var5(t-1)  var6(t-1)  \\\n",
       "7      0.0000   204.0000  2019.0000     1.0000  ...     7.0000     0.0000   \n",
       "8      0.0000   200.0000  2019.0000     1.0000  ...     8.0000     1.0000   \n",
       "9      0.0000   116.0000  2019.0000     1.0000  ...     9.0000     2.0000   \n",
       "10     0.0000    19.0000  2019.0000     1.0000  ...    10.0000     3.0000   \n",
       "11     1.0000    95.0000  2019.0000     1.0000  ...    11.0000     4.0000   \n",
       "\n",
       "    var7(t-1)  var1(t)   var2(t)  var3(t)  var4(t)  var5(t)  var6(t)  var7(t)  \n",
       "7      0.0000 246.0000 2019.0000   1.0000   1.0000   8.0000   1.0000   0.0000  \n",
       "8      0.0000 246.0000 2019.0000   1.0000   1.0000   9.0000   2.0000   0.0000  \n",
       "9      0.0000 196.0000 2019.0000   1.0000   1.0000  10.0000   3.0000   0.0000  \n",
       "10     0.0000 118.0000 2019.0000   1.0000   1.0000  11.0000   4.0000   0.0000  \n",
       "11     0.0000  15.0000 2019.0000   1.0000   1.0000  12.0000   5.0000   1.0000  \n",
       "\n",
       "[5 rows x 56 columns]"
      ]
     },
     "execution_count": 98,
     "metadata": {},
     "output_type": "execute_result"
    }
   ],
   "source": [
    "reframed.head()"
   ]
  },
  {
   "cell_type": "code",
   "execution_count": 99,
   "metadata": {},
   "outputs": [
    {
     "name": "stdout",
     "output_type": "stream",
     "text": [
      "    var1(t-7)  var2(t-7)  var3(t-7)  var4(t-7)  var5(t-7)  var6(t-7)  \\\n",
      "7     93.0000  2019.0000     1.0000     1.0000     1.0000     1.0000   \n",
      "8    204.0000  2019.0000     1.0000     1.0000     2.0000     2.0000   \n",
      "9    200.0000  2019.0000     1.0000     1.0000     3.0000     3.0000   \n",
      "10   116.0000  2019.0000     1.0000     1.0000     4.0000     4.0000   \n",
      "11    19.0000  2019.0000     1.0000     1.0000     5.0000     5.0000   \n",
      "\n",
      "    var7(t-7)  var1(t-6)  var2(t-6)  var3(t-6)  ...  var6(t-2)  var7(t-2)  \\\n",
      "7      0.0000   204.0000  2019.0000     1.0000  ...     6.0000     1.0000   \n",
      "8      0.0000   200.0000  2019.0000     1.0000  ...     0.0000     0.0000   \n",
      "9      0.0000   116.0000  2019.0000     1.0000  ...     1.0000     0.0000   \n",
      "10     0.0000    19.0000  2019.0000     1.0000  ...     2.0000     0.0000   \n",
      "11     1.0000    95.0000  2019.0000     1.0000  ...     3.0000     0.0000   \n",
      "\n",
      "    var1(t-1)  var2(t-1)  var3(t-1)  var4(t-1)  var5(t-1)  var6(t-1)  \\\n",
      "7    315.0000  2019.0000     1.0000     1.0000     7.0000     0.0000   \n",
      "8    246.0000  2019.0000     1.0000     1.0000     8.0000     1.0000   \n",
      "9    246.0000  2019.0000     1.0000     1.0000     9.0000     2.0000   \n",
      "10   196.0000  2019.0000     1.0000     1.0000    10.0000     3.0000   \n",
      "11   118.0000  2019.0000     1.0000     1.0000    11.0000     4.0000   \n",
      "\n",
      "    var7(t-1)  var1(t)  \n",
      "7      0.0000 246.0000  \n",
      "8      0.0000 246.0000  \n",
      "9      0.0000 196.0000  \n",
      "10     0.0000 118.0000  \n",
      "11     0.0000  15.0000  \n",
      "\n",
      "[5 rows x 50 columns]\n"
     ]
    }
   ],
   "source": [
    "# drop columns we don't want to predict\n",
    "#reframed.drop(reframed.columns[[8,9,10,11,12,13]], axis=1, inplace=True)\n",
    "reframed.drop(reframed.columns[[50,51,52,53,54,55]], axis=1, inplace=True)\n",
    "#reframed.drop(reframed.columns[[106,107,108,109,110,111]], axis=1, inplace=True)\n",
    "print(reframed.head())"
   ]
  },
  {
   "cell_type": "markdown",
   "metadata": {},
   "source": [
    "#### Scale data "
   ]
  },
  {
   "cell_type": "code",
   "execution_count": 100,
   "metadata": {},
   "outputs": [],
   "source": [
    "# normalize features\n",
    "scaler = MinMaxScaler(feature_range=(0, 1))\n",
    "scaled = scaler.fit_transform(reframed.values)"
   ]
  },
  {
   "cell_type": "code",
   "execution_count": 101,
   "metadata": {},
   "outputs": [
    {
     "data": {
      "text/plain": [
       "(358, 50)"
      ]
     },
     "execution_count": 101,
     "metadata": {},
     "output_type": "execute_result"
    }
   ],
   "source": [
    "scaled.shape"
   ]
  },
  {
   "cell_type": "markdown",
   "metadata": {},
   "source": [
    "#### Train-Test split"
   ]
  },
  {
   "cell_type": "code",
   "execution_count": 112,
   "metadata": {},
   "outputs": [
    {
     "name": "stdout",
     "output_type": "stream",
     "text": [
      "(300, 1, 49) (300,) (58, 1, 49) (58,)\n"
     ]
    }
   ],
   "source": [
    "# split into train and test sets\n",
    "#values = reframed.values\n",
    "values = scaled\n",
    "train = values[:300, :]\n",
    "test = values[300:, :]\n",
    "# split into input and outputs\n",
    "train_X, train_y = train[:, :-1], train[:, -1]\n",
    "test_X, test_y = test[:, :-1], test[:, -1]\n",
    "# reshape input to be 3D [samples, timesteps, features]\n",
    "train_X = train_X.reshape((train_X.shape[0], 1, train_X.shape[1]))\n",
    "test_X = test_X.reshape((test_X.shape[0], 1, test_X.shape[1]))\n",
    "print(train_X.shape, train_y.shape, test_X.shape, test_y.shape)"
   ]
  },
  {
   "cell_type": "markdown",
   "metadata": {},
   "source": [
    "### Build the Model"
   ]
  },
  {
   "cell_type": "code",
   "execution_count": 113,
   "metadata": {
    "scrolled": true
   },
   "outputs": [
    {
     "name": "stdout",
     "output_type": "stream",
     "text": [
      "Train on 300 samples, validate on 58 samples\n",
      "Epoch 1/50\n",
      " - 1s - loss: 0.0535 - val_loss: 0.0251\n",
      "Epoch 2/50\n",
      " - 0s - loss: 0.0299 - val_loss: 0.0431\n",
      "Epoch 3/50\n",
      " - 0s - loss: 0.0215 - val_loss: 0.0214\n",
      "Epoch 4/50\n",
      " - 0s - loss: 0.0148 - val_loss: 0.0173\n",
      "Epoch 5/50\n",
      " - 0s - loss: 0.0144 - val_loss: 0.0175\n",
      "Epoch 6/50\n",
      " - 0s - loss: 0.0118 - val_loss: 0.0160\n",
      "Epoch 7/50\n",
      " - 0s - loss: 0.0110 - val_loss: 0.0174\n",
      "Epoch 8/50\n",
      " - 0s - loss: 0.0107 - val_loss: 0.0164\n",
      "Epoch 9/50\n",
      " - 0s - loss: 0.0101 - val_loss: 0.0162\n",
      "Epoch 10/50\n",
      " - 0s - loss: 0.0099 - val_loss: 0.0155\n",
      "Epoch 11/50\n",
      " - 0s - loss: 0.0098 - val_loss: 0.0152\n",
      "Epoch 12/50\n",
      " - 0s - loss: 0.0097 - val_loss: 0.0146\n",
      "Epoch 13/50\n",
      " - 0s - loss: 0.0095 - val_loss: 0.0139\n",
      "Epoch 14/50\n",
      " - 0s - loss: 0.0094 - val_loss: 0.0135\n",
      "Epoch 15/50\n",
      " - 0s - loss: 0.0093 - val_loss: 0.0135\n",
      "Epoch 16/50\n",
      " - 0s - loss: 0.0093 - val_loss: 0.0133\n",
      "Epoch 17/50\n",
      " - 0s - loss: 0.0092 - val_loss: 0.0131\n",
      "Epoch 18/50\n",
      " - 0s - loss: 0.0091 - val_loss: 0.0130\n",
      "Epoch 19/50\n",
      " - 0s - loss: 0.0091 - val_loss: 0.0130\n",
      "Epoch 20/50\n",
      " - 0s - loss: 0.0091 - val_loss: 0.0129\n",
      "Epoch 21/50\n",
      " - 0s - loss: 0.0090 - val_loss: 0.0128\n",
      "Epoch 22/50\n",
      " - 0s - loss: 0.0090 - val_loss: 0.0128\n",
      "Epoch 23/50\n",
      " - 0s - loss: 0.0089 - val_loss: 0.0127\n",
      "Epoch 24/50\n",
      " - 0s - loss: 0.0089 - val_loss: 0.0126\n",
      "Epoch 25/50\n",
      " - 0s - loss: 0.0088 - val_loss: 0.0126\n",
      "Epoch 26/50\n",
      " - 0s - loss: 0.0088 - val_loss: 0.0125\n",
      "Epoch 27/50\n",
      " - 0s - loss: 0.0088 - val_loss: 0.0125\n",
      "Epoch 28/50\n",
      " - 0s - loss: 0.0087 - val_loss: 0.0124\n",
      "Epoch 29/50\n",
      " - 0s - loss: 0.0087 - val_loss: 0.0123\n",
      "Epoch 30/50\n",
      " - 0s - loss: 0.0087 - val_loss: 0.0123\n",
      "Epoch 31/50\n",
      " - 0s - loss: 0.0087 - val_loss: 0.0123\n",
      "Epoch 32/50\n",
      " - 0s - loss: 0.0086 - val_loss: 0.0122\n",
      "Epoch 33/50\n",
      " - 0s - loss: 0.0086 - val_loss: 0.0122\n",
      "Epoch 34/50\n",
      " - 0s - loss: 0.0086 - val_loss: 0.0121\n",
      "Epoch 35/50\n",
      " - 0s - loss: 0.0085 - val_loss: 0.0121\n",
      "Epoch 36/50\n",
      " - 0s - loss: 0.0085 - val_loss: 0.0121\n",
      "Epoch 37/50\n",
      " - 0s - loss: 0.0085 - val_loss: 0.0120\n",
      "Epoch 38/50\n",
      " - 0s - loss: 0.0085 - val_loss: 0.0120\n",
      "Epoch 39/50\n",
      " - 0s - loss: 0.0084 - val_loss: 0.0120\n",
      "Epoch 40/50\n",
      " - 0s - loss: 0.0084 - val_loss: 0.0119\n",
      "Epoch 41/50\n",
      " - 0s - loss: 0.0084 - val_loss: 0.0119\n",
      "Epoch 42/50\n",
      " - 0s - loss: 0.0083 - val_loss: 0.0119\n",
      "Epoch 43/50\n",
      " - 0s - loss: 0.0083 - val_loss: 0.0119\n",
      "Epoch 44/50\n",
      " - 0s - loss: 0.0083 - val_loss: 0.0118\n",
      "Epoch 45/50\n",
      " - 0s - loss: 0.0083 - val_loss: 0.0118\n",
      "Epoch 46/50\n",
      " - 0s - loss: 0.0083 - val_loss: 0.0118\n",
      "Epoch 47/50\n",
      " - 0s - loss: 0.0082 - val_loss: 0.0118\n",
      "Epoch 48/50\n",
      " - 0s - loss: 0.0082 - val_loss: 0.0117\n",
      "Epoch 49/50\n",
      " - 0s - loss: 0.0082 - val_loss: 0.0117\n",
      "Epoch 50/50\n",
      " - 0s - loss: 0.0082 - val_loss: 0.0117\n"
     ]
    }
   ],
   "source": [
    "# design network\n",
    "model = Sequential()\n",
    "model.add(LSTM(50, input_shape=(train_X.shape[1], train_X.shape[2])))\n",
    "model.add(Dense(1))\n",
    "model.compile(loss='mse', optimizer='adam')\n",
    "# fit network\n",
    "history = model.fit(train_X, train_y, epochs=50, batch_size=72, validation_data=(test_X, test_y), verbose=2, shuffle=False)\n"
   ]
  },
  {
   "cell_type": "code",
   "execution_count": 114,
   "metadata": {},
   "outputs": [
    {
     "data": {
      "image/png": "[encoded data removed]",
      "text/plain": [
       "<Figure size 432x288 with 1 Axes>"
      ]
     },
     "metadata": {
      "needs_background": "light"
     },
     "output_type": "display_data"
    }
   ],
   "source": [
    "# plot history\n",
    "plt.plot(history.history['loss'], label='train')\n",
    "plt.plot(history.history['val_loss'], label='test')\n",
    "plt.legend()\n",
    "plt.show()"
   ]
  },
  {
   "cell_type": "markdown",
   "metadata": {},
   "source": [
    "### Evaluate Model"
   ]
  },
  {
   "cell_type": "code",
   "execution_count": 115,
   "metadata": {},
   "outputs": [
    {
     "name": "stdout",
     "output_type": "stream",
     "text": [
      "(58, 1)\n",
      "(58, 49)\n",
      "(58, 50)\n",
      "Test RMSE: 8.765\n"
     ]
    }
   ],
   "source": [
    "\n",
    "# make a prediction\n",
    "yhat = model.predict(test_X)\n",
    "test_X = test_X.reshape((test_X.shape[0], test_X.shape[2]))\n",
    "# invert scaling for forecast\n",
    "inv_yhat_concat = np.concatenate((test_X[:, :],yhat), axis=1)\n",
    "print(yhat.shape)\n",
    "print(test_X.shape)\n",
    "\n",
    "inv_yhat = scaler.inverse_transform(inv_yhat_concat)\n",
    "print(inv_yhat.shape)\n",
    "inv_yhat_final = inv_yhat[:,-1].astype(int)\n",
    "# invert scaling for actual\n",
    "test_y = test_y.reshape((len(test_y), 1))\n",
    "inv_y_concat = np.concatenate((test_X[:, :],test_y), axis=1)\n",
    "inv_y = scaler.inverse_transform(inv_y_concat)\n",
    "inv_y_final = inv_y[:,-1].astype(int)\n",
    "# calculate RMSE\n",
    "rmse = np.sqrt(mean_squared_error(inv_y, inv_yhat))\n",
    "print('Test RMSE: %.3f' % rmse)\n"
   ]
  },
  {
   "cell_type": "code",
   "execution_count": 106,
   "metadata": {},
   "outputs": [
    {
     "data": {
      "text/plain": [
       "array([299, 252, 200, 187, 182,  27, 100, 270, 258, 283, 203, 119,  10,\n",
       "        94, 281, 252, 194, 241, 174,  50,  97, 271, 264, 269, 284, 151,\n",
       "        28, 114, 369, 299, 362, 285, 233,  13,  82, 357, 287, 264, 322,\n",
       "       190,  12,  86, 324, 345, 282, 287, 184,  18,  75, 244,  80,  14,\n",
       "        47, 126,  13,  68, 195, 157])"
      ]
     },
     "execution_count": 106,
     "metadata": {},
     "output_type": "execute_result"
    }
   ],
   "source": [
    "inv_y_final #Original Data"
   ]
  },
  {
   "cell_type": "code",
   "execution_count": 107,
   "metadata": {},
   "outputs": [
    {
     "data": {
      "text/plain": [
       "array([300, 266, 288, 261, 152,  15,  74, 278, 267, 268, 249, 162,  18,\n",
       "        74, 279, 272, 278, 247, 157,  21,  85, 288, 273, 276, 259, 172,\n",
       "        29,  87, 294, 295, 302, 271, 183,  38,  79, 281, 277, 289, 259,\n",
       "       170,  26,  80, 285, 277, 289, 269, 172,  25,  82, 287, 276, 270,\n",
       "       233, 135,   8,  82, 288, 257])"
      ]
     },
     "execution_count": 107,
     "metadata": {},
     "output_type": "execute_result"
    }
   ],
   "source": [
    "inv_yhat_final #Predicted Data"
   ]
  }
 ],
 "metadata": {
  "kernelspec": {
   "display_name": "Python 3",
   "language": "python",
   "name": "python3"
  },
  "language_info": {
   "codemirror_mode": {
    "name": "ipython",
    "version": 3
   },
   "file_extension": ".py",
   "mimetype": "text/x-python",
   "name": "python",
   "nbconvert_exporter": "python",
   "pygments_lexer": "ipython3",
   "version": "3.7.4"
  }
 },
 "nbformat": 4,
 "nbformat_minor": 2
}
